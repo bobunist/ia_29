{
 "cells": [
  {
   "cell_type": "markdown",
   "metadata": {},
   "source": [
    "# Промежуточная аттестация по сетям искусcтвенных нейронов.\n",
    "## Задание\n",
    "\n",
    "**Ваша задача - создать классификатор изображений с помощью Keras и сверточных нейронных сетей для набора данных Fashion MNIST. Этот набор данных включает 10 меток с разными типами одежды с изображениями 28 на 28 * в оттенках серого *. Имеется обучающий набор из 60 000 изображений и 10 000 тестовых изображений.**\n",
    "\n",
    "Описание классов\n",
    "\n",
    "    Label\tDescription\n",
    "    0\t    T-shirt/top\n",
    "    1\t    Trouser\n",
    "    2\t    Pullover\n",
    "    3\t    Dress\n",
    "    4\t    Coat\n",
    "    5\t    Sandal\n",
    "    6\t    Shirt\n",
    "    7\t    Sneaker\n",
    "    8\t    Bag\n",
    "    9\t    Ankle boot\n",
    "    \n",
    " "
   ]
  },
  {
   "cell_type": "markdown",
   "metadata": {},
   "source": [
    "## Данные\n",
    "\n",
    "**Загружаем данные**"
   ]
  },
  {
   "cell_type": "code",
   "execution_count": 1,
   "metadata": {},
   "outputs": [],
   "source": [
    "from tensorflow.keras.datasets import fashion_mnist\n",
    "\n",
    "(x_train, y_train), (x_test, y_test) = fashion_mnist.load_data()"
   ]
  },
  {
   "cell_type": "markdown",
   "metadata": {},
   "source": [
    "## Визаулизация датасета\n",
    "\n",
    "**Используйте matplotlib чтобы показать пример картинки.**"
   ]
  },
  {
   "cell_type": "code",
   "execution_count": 2,
   "metadata": {},
   "outputs": [
    {
     "data": {
      "image/png": "[encoded data removed]",
      "text/plain": [
       "<Figure size 640x480 with 1 Axes>"
      ]
     },
     "metadata": {},
     "output_type": "display_data"
    }
   ],
   "source": [
    "import matplotlib.pyplot as plt\n",
    "\n",
    "plt.figure()\n",
    "plt.imshow(x_train[0], cmap='gray')\n",
    "plt.title('Label: 0')\n",
    "plt.show()"
   ]
  },
  {
   "cell_type": "markdown",
   "metadata": {},
   "source": [
    "## Предобработка\n",
    "\n",
    "**Нормализуйте данные X_train и X_test **"
   ]
  },
  {
   "cell_type": "code",
   "execution_count": 3,
   "metadata": {},
   "outputs": [],
   "source": [
    "x_train = x_train / 255.0\n",
    "x_test = x_test / 255.0"
   ]
  },
  {
   "cell_type": "markdown",
   "metadata": {},
   "source": [
    "**Измените форму массивов X_train и X_test так, чтобы они стали 4-мерными**\n",
    "batch_size x channels x H x W"
   ]
  },
  {
   "cell_type": "code",
   "execution_count": 4,
   "metadata": {},
   "outputs": [],
   "source": [
    "x_train = x_train.reshape(x_train.shape[0], 28, 28, 1)\n",
    "x_test = x_test.reshape(x_test.shape[0], 28, 28, 1)"
   ]
  },
  {
   "cell_type": "markdown",
   "metadata": {},
   "source": [
    "**Преобразуйте  y_train и y_test в one_hot представления **"
   ]
  },
  {
   "cell_type": "code",
   "execution_count": 5,
   "metadata": {},
   "outputs": [],
   "source": [
    "from tensorflow.keras.utils import to_categorical\n",
    "\n",
    "y_train = to_categorical(y_train, num_classes=10)\n",
    "y_test = to_categorical(y_test, num_classes=10)"
   ]
  },
  {
   "cell_type": "markdown",
   "metadata": {},
   "source": [
    "## Создайте модель\n",
    "\n",
    "**Примерная структура модели. При выполнении задания вы можете поэкспериментировать со слоями**\n",
    "\n",
    "* Сверточный слой, 32 фильтра, размер ядра=(4,4)\n",
    "* Пулинг с pool_size = (2,2)\n",
    "\n",
    "* Выпрямляющий слой (Flatten)\n",
    "* Полносвязный слой (например 128 нейронов), RELU \n",
    "\n",
    "* Выходной полносвязный слой с 10 нейронами с softmax \n",
    "\n",
    "**При компиляции укажите loss='categorical_crossentropy', optimizer='rmsprop', metrics=['accuracy']**"
   ]
  },
  {
   "cell_type": "code",
   "execution_count": 6,
   "metadata": {},
   "outputs": [
    {
     "name": "stdout",
     "output_type": "stream",
     "text": [
      "Model: \"sequential\"\n",
      "_________________________________________________________________\n",
      " Layer (type)                Output Shape              Param #   \n",
      "=================================================================\n",
      " conv2d (Conv2D)             (None, 24, 24, 10)        260       \n",
      "                                                                 \n",
      " max_pooling2d (MaxPooling2  (None, 12, 12, 10)        0         \n",
      " D)                                                              \n",
      "                                                                 \n",
      " flatten (Flatten)           (None, 1440)              0         \n",
      "                                                                 \n",
      " dense (Dense)               (None, 128)               184448    \n",
      "                                                                 \n",
      " dense_1 (Dense)             (None, 10)                1290      \n",
      "                                                                 \n",
      "=================================================================\n",
      "Total params: 185998 (726.55 KB)\n",
      "Trainable params: 185998 (726.55 KB)\n",
      "Non-trainable params: 0 (0.00 Byte)\n",
      "_________________________________________________________________\n"
     ]
    }
   ],
   "source": [
    "from tensorflow.keras.models import Sequential\n",
    "from tensorflow.keras.layers import Conv2D, MaxPooling2D, Flatten, Dense\n",
    "\n",
    "model = Sequential()\n",
    "\n",
    "model.add(Conv2D(10, (5, 5), activation='relu', input_shape=(28, 28, 1)))\n",
    "\n",
    "model.add(MaxPooling2D(pool_size=(2, 2)))\n",
    "\n",
    "model.add(Flatten())\n",
    "\n",
    "model.add(Dense(128, activation='relu'))\n",
    "\n",
    "model.add(Dense(10, activation='softmax'))\n",
    "\n",
    "model.compile(loss='categorical_crossentropy', optimizer='rmsprop', metrics=['accuracy'])\n",
    "\n",
    "model.summary()"
   ]
  },
  {
   "cell_type": "markdown",
   "metadata": {},
   "source": [
    "### Тренировка модели\n",
    "**Тренируем модель на x_train. Число эпох выберите самостоятельно**"
   ]
  },
  {
   "cell_type": "code",
   "execution_count": 7,
   "metadata": {},
   "outputs": [
    {
     "name": "stdout",
     "output_type": "stream",
     "text": [
      "Epoch 1/5\n",
      "750/750 [==============================] - 7s 9ms/step - loss: 0.5279 - accuracy: 0.8127 - val_loss: 0.3717 - val_accuracy: 0.8729\n",
      "Epoch 2/5\n",
      "750/750 [==============================] - 7s 9ms/step - loss: 0.3415 - accuracy: 0.8792 - val_loss: 0.3296 - val_accuracy: 0.8836\n",
      "Epoch 3/5\n",
      "750/750 [==============================] - 7s 9ms/step - loss: 0.2937 - accuracy: 0.8944 - val_loss: 0.2951 - val_accuracy: 0.8932\n",
      "Epoch 4/5\n",
      "750/750 [==============================] - 6s 8ms/step - loss: 0.2622 - accuracy: 0.9055 - val_loss: 0.2772 - val_accuracy: 0.8994\n",
      "Epoch 5/5\n",
      "750/750 [==============================] - 6s 9ms/step - loss: 0.2383 - accuracy: 0.9135 - val_loss: 0.2746 - val_accuracy: 0.9008\n"
     ]
    }
   ],
   "source": [
    "epochs = 5\n",
    "\n",
    "history = model.fit(x_train, y_train, epochs=epochs, batch_size=64, validation_split=0.2)"
   ]
  },
  {
   "cell_type": "markdown",
   "metadata": {},
   "source": [
    "### Оценка модели\n",
    "\n",
    "**Оцените модель по метрикам accuracy,precision,recall,f1-score на тестовой выборке x_test **"
   ]
  },
  {
   "cell_type": "code",
   "execution_count": 8,
   "metadata": {},
   "outputs": [
    {
     "name": "stdout",
     "output_type": "stream",
     "text": [
      "313/313 [==============================] - 1s 3ms/step\n",
      "              precision    recall  f1-score   support\n",
      "\n",
      "           0       0.84      0.88      0.86      1000\n",
      "           1       0.98      0.98      0.98      1000\n",
      "           2       0.75      0.91      0.82      1000\n",
      "           3       0.91      0.91      0.91      1000\n",
      "           4       0.88      0.74      0.81      1000\n",
      "           5       0.99      0.96      0.97      1000\n",
      "           6       0.77      0.66      0.71      1000\n",
      "           7       0.94      0.98      0.96      1000\n",
      "           8       0.97      0.98      0.97      1000\n",
      "           9       0.97      0.96      0.96      1000\n",
      "\n",
      "    accuracy                           0.90     10000\n",
      "   macro avg       0.90      0.90      0.89     10000\n",
      "weighted avg       0.90      0.90      0.89     10000\n",
      "\n"
     ]
    }
   ],
   "source": [
    "from sklearn.metrics import classification_report\n",
    "\n",
    "import numpy as np\n",
    "\n",
    "predictions = model.predict(x_test)\n",
    "\n",
    "predicted_classes = np.argmax(predictions, axis=1)\n",
    "\n",
    "print(classification_report(np.argmax(y_test, axis=1), predicted_classes))"
   ]
  },
  {
   "cell_type": "markdown",
   "metadata": {},
   "source": [
    "## Дополнительно\n",
    " \n",
    "* Отрисуйте фильтры на слое Conv2D, сравните до и после обучения модели"
   ]
  },
  {
   "cell_type": "code",
   "execution_count": 9,
   "metadata": {},
   "outputs": [
    {
     "name": "stdout",
     "output_type": "stream",
     "text": [
      "1/1 [==============================] - 0s 42ms/step\n"
     ]
    },
    {
     "data": {
      "image/png": "[encoded data removed]",
      "text/plain": [
       "<Figure size 1200x600 with 10 Axes>"
      ]
     },
     "metadata": {},
     "output_type": "display_data"
    },
    {
     "data": {
      "image/png": "[encoded data removed]",
      "text/plain": [
       "<Figure size 1200x600 with 10 Axes>"
      ]
     },
     "metadata": {},
     "output_type": "display_data"
    }
   ],
   "source": [
    "import matplotlib.pyplot as plt\n",
    "from tensorflow.keras.models import Model\n",
    "\n",
    "layer_name = 'conv2d'\n",
    "intermediate_layer_model = Model(inputs=model.input,\n",
    "                                 outputs=model.get_layer(layer_name).output)\n",
    "\n",
    "pretrained_filters = model.get_layer(layer_name).get_weights()[0]\n",
    "\n",
    "trained_filters = intermediate_layer_model.predict(x_test[0:32])\n",
    "\n",
    "plt.figure(figsize=(12, 6))\n",
    "for i in range(10):\n",
    "    plt.subplot(4, 8, i + 1)\n",
    "    plt.imshow(pretrained_filters[:, :, 0, i], cmap='viridis')\n",
    "    plt.axis('off')\n",
    "    plt.title(f'Filter {i + 1}')\n",
    "plt.suptitle('Filters Before Training', fontsize=16)\n",
    "\n",
    "plt.figure(figsize=(12, 6))\n",
    "for i in range(10):\n",
    "    plt.subplot(4, 8, i + 1)\n",
    "    plt.imshow(trained_filters[0, :, :, i], cmap='viridis')\n",
    "    plt.axis('off')\n",
    "    plt.title(f'Filter {i + 1}')\n",
    "plt.suptitle('Filters After Training', fontsize=16)\n",
    "\n",
    "plt.show()"
   ]
  }
 ],
 "metadata": {
  "kernelspec": {
   "display_name": "Python 3 (ipykernel)",
   "language": "python",
   "name": "python3"
  },
  "language_info": {
   "codemirror_mode": {
    "name": "ipython",
    "version": 3
   },
   "file_extension": ".py",
   "mimetype": "text/x-python",
   "name": "python",
   "nbconvert_exporter": "python",
   "pygments_lexer": "ipython3",
   "version": "3.11.6"
  }
 },
 "nbformat": 4,
 "nbformat_minor": 4
}
